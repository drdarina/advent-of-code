{
 "cells": [
  {
   "cell_type": "code",
   "execution_count": 1,
   "id": "f2861a23-6b12-4a42-b805-1983f0e13ebb",
   "metadata": {},
   "outputs": [],
   "source": [
    "import numpy as np"
   ]
  },
  {
   "cell_type": "code",
   "execution_count": 37,
   "id": "9e8078f1-2975-4163-b971-081134f36abc",
   "metadata": {},
   "outputs": [],
   "source": [
    "with open('data/9.txt', 'r') as f:\n",
    "    l = [i.split('\\n')[0] for i in f.readlines()]\n",
    "l = [i.split() for i in l]\n",
    "l = [(i, int(j)) for i, j in l]"
   ]
  },
  {
   "cell_type": "code",
   "execution_count": 3,
   "id": "b328da2f-6ba7-4722-80ad-7696d8740e47",
   "metadata": {},
   "outputs": [],
   "source": [
    "head = [0, 0]\n",
    "tail = [0, 0]\n",
    "tail_visited = [(0,0)]\n",
    "\n",
    "def head_near_tail(head, tail):\n",
    "    if abs(head[0]-tail[0]) <= 1 and abs(head[1]-tail[1]) <= 1:\n",
    "        return True\n",
    "    return False\n",
    "\n",
    "\n",
    "\n",
    "def step(head, tail, d):\n",
    "    if d == 'U':\n",
    "        first_idx = 1\n",
    "        second_idx = 0\n",
    "        sign = 1\n",
    "    elif d == 'D':\n",
    "        first_idx = 1\n",
    "        second_idx = 0\n",
    "        sign = -1\n",
    "    elif d == 'R':\n",
    "        first_idx = 0\n",
    "        second_idx = 1\n",
    "        sign = 1\n",
    "    else:\n",
    "        first_idx = 0\n",
    "        second_idx = 1\n",
    "        sign = -1\n",
    "    head[first_idx] += sign\n",
    "    if not head_near_tail(head, tail):\n",
    "        if head[second_idx] == tail[second_idx]:\n",
    "            # go straight up\n",
    "            tail[first_idx] += sign\n",
    "        else:\n",
    "            # go diagonally\n",
    "            tail[first_idx] += sign\n",
    "            if tail[second_idx] > head[second_idx]:\n",
    "                tail[second_idx] -= 1\n",
    "            else:\n",
    "                tail[second_idx] += 1\n",
    "        tail_visited.append(tuple(tail))\n",
    "    return head, tail\n",
    "\n",
    "for i in l:\n",
    "    for n_times in range(i[1]):\n",
    "        head, tail = step(head, tail, i[0])"
   ]
  },
  {
   "cell_type": "code",
   "execution_count": 4,
   "id": "5a960cea-a660-4628-ad51-4d34d7428bc6",
   "metadata": {},
   "outputs": [
    {
     "data": {
      "text/plain": [
       "6494"
      ]
     },
     "execution_count": 4,
     "metadata": {},
     "output_type": "execute_result"
    }
   ],
   "source": [
    "len(set(tail_visited))"
   ]
  },
  {
   "cell_type": "code",
   "execution_count": 40,
   "id": "131e475a-009c-49d7-96ba-1f1bd15d63a9",
   "metadata": {},
   "outputs": [],
   "source": [
    "with open('data/9.txt', 'r') as f:\n",
    "    l = [i.split('\\n')[0] for i in f.readlines()]\n",
    "l = [i.split() for i in l]\n",
    "l = [(i, int(j)) for i, j in l]"
   ]
  },
  {
   "cell_type": "code",
   "execution_count": 43,
   "id": "9f5222ef-6b88-45a1-98d0-e1db5a4f16b0",
   "metadata": {
    "tags": []
   },
   "outputs": [],
   "source": [
    "# part 2\n",
    "positions = [(0,0)] * 10\n",
    "positions = [list(i) for i in positions]\n",
    "tail_visited = [(0,0)]\n",
    "\n",
    "\n",
    "# same as before, just removed the append part\n",
    "def step(positions, d):\n",
    "    if d == 'U':\n",
    "        first_idx = 0\n",
    "        second_idx = 1\n",
    "        sign = -1\n",
    "    elif d == 'D':\n",
    "        first_idx = 0\n",
    "        second_idx = 1\n",
    "        sign = 1\n",
    "    elif d == 'R':\n",
    "        first_idx = 1\n",
    "        second_idx = 0\n",
    "        sign = 1\n",
    "    else:\n",
    "        first_idx = 1\n",
    "        second_idx = 0\n",
    "        sign = -1\n",
    "    positions[0][first_idx] += sign\n",
    "    for i in range(9):\n",
    "        if not head_near_tail(positions[i], positions[i+1]):\n",
    "            if positions[i][second_idx] == positions[i+1][second_idx]:\n",
    "                # go straight up or down/left or right\n",
    "                positions[i+1][first_idx] += sign\n",
    "            else:\n",
    "                # go diagonally\n",
    "                positions[i+1][first_idx] += sign\n",
    "                if positions[i+1][second_idx] > positions[i][second_idx]:\n",
    "                    positions[i+1][second_idx] -= 1\n",
    "                else:\n",
    "                    positions[i+1][second_idx] += 1\n",
    "    return positions\n",
    "\n",
    "\n",
    "for i in l:\n",
    "    print(i)\n",
    "    for n_times in range(i[1]):\n",
    "        positions = step(positions, i[0])\n",
    "        tail_visited.append(tuple(positions[-1]))"
   ]
  },
  {
   "cell_type": "code",
   "execution_count": 39,
   "id": "5350985f-55ce-42a3-8642-9375e51ec172",
   "metadata": {},
   "outputs": [
    {
     "data": {
      "text/plain": [
       "2646"
      ]
     },
     "execution_count": 39,
     "metadata": {},
     "output_type": "execute_result"
    }
   ],
   "source": [
    "len(set(tail_visited))"
   ]
  },
  {
   "cell_type": "code",
   "execution_count": null,
   "id": "de9c7c00-04ed-4587-a06b-f43fb56a24eb",
   "metadata": {},
   "outputs": [],
   "source": []
  }
 ],
 "metadata": {
  "kernelspec": {
   "display_name": "blackops",
   "language": "python",
   "name": "blackops"
  },
  "language_info": {
   "codemirror_mode": {
    "name": "ipython",
    "version": 3
   },
   "file_extension": ".py",
   "mimetype": "text/x-python",
   "name": "python",
   "nbconvert_exporter": "python",
   "pygments_lexer": "ipython3",
   "version": "3.8.10"
  }
 },
 "nbformat": 4,
 "nbformat_minor": 5
}
