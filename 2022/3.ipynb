{
 "cells": [
  {
   "cell_type": "markdown",
   "id": "25a41a77-120a-468d-99a3-0374cfa51401",
   "metadata": {},
   "source": [
    "The first rucksack contains the items vJrwpWtwJgWrhcsFMMfFFhFp, which means its first compartment contains the items vJrwpWtwJgWr, while the second compartment contains the items hcsFMMfFFhFp. The only item type that appears in both compartments is lowercase p.\n",
    "The second rucksack's compartments contain jqHRNqRjqzjGDLGL and rsFMfFZSrLrFZsSL. The only item type that appears in both compartments is uppercase L.\n",
    "The third rucksack's compartments contain PmmdzqPrV and vPwwTWBwg; the only common item type is uppercase P.\n",
    "The fourth rucksack's compartments only share item type v.\n",
    "The fifth rucksack's compartments only share item type t.\n",
    "The sixth rucksack's compartments only share item type s.\n",
    "To help prioritize item rearrangement, every item type can be converted to a priority:\n",
    "\n",
    "Lowercase item types a through z have priorities 1 through 26.\n",
    "Uppercase item types A through Z have priorities 27 through 52.\n",
    "In the above example, the priority of the item type that appears in both compartments of each rucksack is 16 (p), 38 (L), 42 (P), 22 (v), 20 (t), and 19 (s); the sum of these is 157.\n",
    "\n",
    "Find the item type that appears in both compartments of each rucksack. What is the sum of the priorities of those item types?"
   ]
  },
  {
   "cell_type": "code",
   "execution_count": 49,
   "id": "24632e23-8919-4553-84b2-8b064c8260c8",
   "metadata": {},
   "outputs": [],
   "source": [
    "with open('data/3.txt', 'r') as f:\n",
    "    l = [i.split('\\n')[0] for i in f.readlines()]"
   ]
  },
  {
   "cell_type": "code",
   "execution_count": 23,
   "id": "0d92b398-286f-45ff-bf60-86487c9ede40",
   "metadata": {},
   "outputs": [],
   "source": [
    "def in_both(s):\n",
    "    s1 = set(s[:int(len(s)/2)])\n",
    "    s2 = set(s[int(len(s)/2):])\n",
    "    return s1.intersection(s2).pop()"
   ]
  },
  {
   "cell_type": "code",
   "execution_count": 24,
   "id": "eb318f85-918e-4e2d-929b-9affa859a6fd",
   "metadata": {},
   "outputs": [],
   "source": [
    "import string\n",
    "value = {k:v+1 for v, k in enumerate(string.ascii_letters)}"
   ]
  },
  {
   "cell_type": "code",
   "execution_count": 25,
   "id": "79d29c35-fd42-4eec-85f1-1d5a53b8a2bb",
   "metadata": {},
   "outputs": [
    {
     "data": {
      "text/plain": [
       "7428"
      ]
     },
     "execution_count": 25,
     "metadata": {},
     "output_type": "execute_result"
    }
   ],
   "source": [
    "sum(value[in_both(i)] for i in l)"
   ]
  },
  {
   "cell_type": "markdown",
   "id": "5fa0b0d4-2159-4ff1-b6ce-2482082d3b3f",
   "metadata": {},
   "source": [
    "For safety, the Elves are divided into groups of three. Every Elf carries a badge that identifies their group. For efficiency, within each group of three Elves, the badge is the only item type carried by all three Elves. That is, if a group's badge is item type B, then all three Elves will have item type B somewhere in their rucksack, and at most two of the Elves will be carrying any other item type.\n",
    "\n",
    "The problem is that someone forgot to put this year's updated authenticity sticker on the badges. All of the badges need to be pulled out of the rucksacks so the new authenticity stickers can be attached.\n",
    "\n",
    "Additionally, nobody wrote down which item type corresponds to each group's badges. The only way to tell which item type is the right one is by finding the one item type that is common between all three Elves in each group.\n",
    "\n",
    "Every set of three lines in your list corresponds to a single group, but each group can have a different badge item type. So, in the above example, the first group's rucksacks are the first three lines:\n",
    "\n",
    "vJrwpWtwJgWrhcsFMMfFFhFp\n",
    "jqHRNqRjqzjGDLGLrsFMfFZSrLrFZsSL\n",
    "PmmdzqPrVvPwwTWBwg\n",
    "And the second group's rucksacks are the next three lines:\n",
    "\n",
    "wMqvLMZHhHMvwLHjbvcjnnSBnvTQFn\n",
    "ttgJtRGJQctTZtZT\n",
    "CrZsJsPPZsGzwwsLwLmpwMDw\n",
    "In the first group, the only item type that appears in all three rucksacks is lowercase r; this must be their badges. In the second group, their badge item type must be Z.\n",
    "\n",
    "Priorities for these items must still be found to organize the sticker attachment efforts: here, they are 18 (r) for the first group and 52 (Z) for the second group. The sum of these is 70.\n",
    "\n",
    "Find the item type that corresponds to the badges of each three-Elf group. What is the sum of the priorities of those item types?"
   ]
  },
  {
   "cell_type": "code",
   "execution_count": 50,
   "id": "7ccc3afd-69dc-4e77-92b9-40e99e5c7ff9",
   "metadata": {},
   "outputs": [],
   "source": [
    "def inters(l):\n",
    "    s = [set(i) for i in l]\n",
    "    res = set.intersection(*s)\n",
    "    return res.pop()"
   ]
  },
  {
   "cell_type": "code",
   "execution_count": 51,
   "id": "e98c2e05-81be-436b-bf23-a161a2f9f684",
   "metadata": {},
   "outputs": [],
   "source": [
    "res = []\n",
    "for i, j in zip(range(0, len(l), 3), range(3, len(l)+1, 3)):\n",
    "    res.append(inters(l[i:j]))"
   ]
  },
  {
   "cell_type": "code",
   "execution_count": 52,
   "id": "7647eaef-6384-4baa-81b3-fda750d5f2c4",
   "metadata": {},
   "outputs": [
    {
     "data": {
      "text/plain": [
       "2650"
      ]
     },
     "execution_count": 52,
     "metadata": {},
     "output_type": "execute_result"
    }
   ],
   "source": [
    "sum([value[i] for i in res])"
   ]
  },
  {
   "cell_type": "code",
   "execution_count": null,
   "id": "4484d991-1521-4945-8642-48de4c91a059",
   "metadata": {},
   "outputs": [],
   "source": []
  }
 ],
 "metadata": {
  "kernelspec": {
   "display_name": "Python 3 (ipykernel)",
   "language": "python",
   "name": "python3"
  },
  "language_info": {
   "codemirror_mode": {
    "name": "ipython",
    "version": 3
   },
   "file_extension": ".py",
   "mimetype": "text/x-python",
   "name": "python",
   "nbconvert_exporter": "python",
   "pygments_lexer": "ipython3",
   "version": "3.9.15"
  }
 },
 "nbformat": 4,
 "nbformat_minor": 5
}
