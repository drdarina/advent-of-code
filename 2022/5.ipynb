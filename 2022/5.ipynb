{
 "cells": [
  {
   "cell_type": "markdown",
   "id": "999b17cb-e50c-4184-b563-412208214bbf",
   "metadata": {},
   "source": [
    "They do, however, have a drawing of the starting stacks of crates and the rearrangement procedure (your puzzle input). For example:\n",
    "\n",
    "    [D]    \n",
    "[N] [C]    \n",
    "[Z] [M] [P]\n",
    " 1   2   3 \n",
    "\n",
    "move 1 from 2 to 1\n",
    "move 3 from 1 to 3\n",
    "move 2 from 2 to 1\n",
    "move 1 from 1 to 2\n",
    "In this example, there are three stacks of crates. Stack 1 contains two crates: crate Z is on the bottom, and crate N is on top. Stack 2 contains three crates; from bottom to top, they are crates M, C, and D. Finally, stack 3 contains a single crate, P.\n",
    "\n",
    "Then, the rearrangement procedure is given. In each step of the procedure, a quantity of crates is moved from one stack to a different stack. In the first step of the above rearrangement procedure, one crate is moved from stack 2 to stack 1, resulting in this configuration:\n",
    "\n",
    "[D]        \n",
    "[N] [C]    \n",
    "[Z] [M] [P]\n",
    " 1   2   3 \n",
    "In the second step, three crates are moved from stack 1 to stack 3. Crates are moved one at a time, so the first crate to be moved (D) ends up below the second and third crates:\n",
    "\n",
    "        [Z]\n",
    "        [N]\n",
    "    [C] [D]\n",
    "    [M] [P]\n",
    " 1   2   3\n",
    "Then, both crates are moved from stack 2 to stack 1. Again, because crates are moved one at a time, crate C ends up below crate M:\n",
    "\n",
    "        [Z]\n",
    "        [N]\n",
    "[M]     [D]\n",
    "[C]     [P]\n",
    " 1   2   3\n",
    "Finally, one crate is moved from stack 1 to stack 2:\n",
    "\n",
    "        [Z]\n",
    "        [N]\n",
    "        [D]\n",
    "[C] [M] [P]\n",
    " 1   2   3\n",
    "The Elves just need to know which crate will end up on top of each stack; in this example, the top crates are C in stack 1, M in stack 2, and Z in stack 3, so you should combine these together and give the Elves the message CMZ.\n",
    "\n",
    "After the rearrangement procedure completes, what crate ends up on top of each stack?"
   ]
  },
  {
   "cell_type": "code",
   "execution_count": 1,
   "id": "f7e1b891-1e42-4a6d-be1f-3fe16bd45ae1",
   "metadata": {},
   "outputs": [],
   "source": [
    "with open('data/5_stacks.txt', 'r') as f:\n",
    "    l = [i.split('\\n')[0] for i in f.readlines()]"
   ]
  },
  {
   "cell_type": "code",
   "execution_count": 2,
   "id": "fde27a3c-e788-4f8e-a8c2-527ea44e61b6",
   "metadata": {},
   "outputs": [
    {
     "data": {
      "text/plain": [
       "9"
      ]
     },
     "execution_count": 2,
     "metadata": {},
     "output_type": "execute_result"
    }
   ],
   "source": [
    "n_stacks = int(l[-1].split()[-1])\n",
    "n_stacks"
   ]
  },
  {
   "cell_type": "code",
   "execution_count": 3,
   "id": "2e7142b2-f143-4581-88f6-5c01c627cc0e",
   "metadata": {},
   "outputs": [],
   "source": [
    "# each stack occupies 4 characters, the second character being the actual crate letter\n",
    "from collections import defaultdict\n",
    "import string\n",
    "stacks = defaultdict(list)\n",
    "for line in l[:-1][::-1]:\n",
    "    for i in range(n_stacks):\n",
    "        index = 4*i + 1\n",
    "        letter = line[index]\n",
    "        if letter in string.ascii_uppercase:\n",
    "            stacks[i+1].append(letter)\n",
    "# stacks contains the crates \"bottom up\""
   ]
  },
  {
   "cell_type": "code",
   "execution_count": 4,
   "id": "a6e34d1c-9f91-4b13-9754-53952ed84d6c",
   "metadata": {},
   "outputs": [],
   "source": [
    "with open('data/5_moves.txt', 'r') as f:\n",
    "    l = [i.split('\\n')[0] for i in f.readlines()]"
   ]
  },
  {
   "cell_type": "code",
   "execution_count": 5,
   "id": "114b981e-5217-4611-9178-550d541cf6ed",
   "metadata": {},
   "outputs": [],
   "source": [
    "moves = []\n",
    "for move in l:\n",
    "    moves.append([int(move.split()[1]), int(move.split()[3]), int(move.split()[5])])"
   ]
  },
  {
   "cell_type": "code",
   "execution_count": 6,
   "id": "9cbedf5c-4307-4367-a794-5df2b991d00b",
   "metadata": {},
   "outputs": [],
   "source": [
    "for move in moves:\n",
    "    for i in range(move[0]):\n",
    "        stacks[move[2]].append(stacks[move[1]].pop())\n",
    "        "
   ]
  },
  {
   "cell_type": "code",
   "execution_count": 7,
   "id": "d396bef6-3a89-470a-8f88-6324de33f2a3",
   "metadata": {},
   "outputs": [],
   "source": [
    "res = ''\n",
    "for i in range(n_stacks):\n",
    "    try:\n",
    "        res += stacks[i+1][-1]\n",
    "    except IndexError:\n",
    "        continue"
   ]
  },
  {
   "cell_type": "code",
   "execution_count": 8,
   "id": "e773dcb1-d61a-4e10-9d1f-9399669462bf",
   "metadata": {},
   "outputs": [
    {
     "data": {
      "text/plain": [
       "'QNNTGTPFN'"
      ]
     },
     "execution_count": 8,
     "metadata": {},
     "output_type": "execute_result"
    }
   ],
   "source": [
    "res"
   ]
  },
  {
   "cell_type": "code",
   "execution_count": 9,
   "id": "0126200d-fb9d-41a5-8d52-6212c7fd4f8e",
   "metadata": {},
   "outputs": [],
   "source": [
    "# part 2\n",
    "with open('data/5_stacks.txt', 'r') as f:\n",
    "    l = [i.split('\\n')[0] for i in f.readlines()]"
   ]
  },
  {
   "cell_type": "code",
   "execution_count": 10,
   "id": "e6881031-beaa-41b7-9f8b-732587637b62",
   "metadata": {},
   "outputs": [
    {
     "data": {
      "text/plain": [
       "9"
      ]
     },
     "execution_count": 10,
     "metadata": {},
     "output_type": "execute_result"
    }
   ],
   "source": [
    "n_stacks = int(l[-1].split()[-1])\n",
    "n_stacks"
   ]
  },
  {
   "cell_type": "code",
   "execution_count": 11,
   "id": "8cb67cd7-4662-4853-8dfe-08428a5c0134",
   "metadata": {},
   "outputs": [],
   "source": [
    "# each stack occupies 4 characters, the second character being the actual crate letter\n",
    "from collections import defaultdict\n",
    "import string\n",
    "stacks = defaultdict(list)\n",
    "for line in l[:-1][::-1]:\n",
    "    for i in range(n_stacks):\n",
    "        index = 4*i + 1\n",
    "        letter = line[index]\n",
    "        if letter in string.ascii_uppercase:\n",
    "            stacks[i+1].append(letter)\n",
    "# stacks contains the crates \"bottom up\""
   ]
  },
  {
   "cell_type": "code",
   "execution_count": 12,
   "id": "5982ac1c-28d9-4210-8b3e-eb77da68c6ea",
   "metadata": {},
   "outputs": [],
   "source": [
    "for move in moves:\n",
    "    new = stacks[move[1]][-move[0]:]\n",
    "    stacks[move[2]].extend(new)\n",
    "    stacks[move[1]] = stacks[move[1]][:-move[0]]"
   ]
  },
  {
   "cell_type": "code",
   "execution_count": 13,
   "id": "449a4f83-b909-4287-815e-52db044a5d20",
   "metadata": {},
   "outputs": [
    {
     "data": {
      "text/plain": [
       "'GGNPJBTTR'"
      ]
     },
     "execution_count": 13,
     "metadata": {},
     "output_type": "execute_result"
    }
   ],
   "source": [
    "res = ''\n",
    "for i in range(n_stacks):\n",
    "    try:\n",
    "        res += stacks[i+1][-1]\n",
    "    except IndexError:\n",
    "        continue\n",
    "res"
   ]
  },
  {
   "cell_type": "code",
   "execution_count": null,
   "id": "0034a508-37a4-4534-8b0f-551663e0ce2a",
   "metadata": {},
   "outputs": [],
   "source": []
  }
 ],
 "metadata": {
  "kernelspec": {
   "display_name": "Python 3 (ipykernel)",
   "language": "python",
   "name": "python3"
  },
  "language_info": {
   "codemirror_mode": {
    "name": "ipython",
    "version": 3
   },
   "file_extension": ".py",
   "mimetype": "text/x-python",
   "name": "python",
   "nbconvert_exporter": "python",
   "pygments_lexer": "ipython3",
   "version": "3.9.15"
  }
 },
 "nbformat": 4,
 "nbformat_minor": 5
}
