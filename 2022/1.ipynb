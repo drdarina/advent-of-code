{
 "cells": [
  {
   "cell_type": "markdown",
   "id": "6f7cb948-1cfa-457f-8231-f61e4bdedade",
   "metadata": {},
   "source": [
    "The Elves take turns writing down the number of Calories contained by the various meals, snacks, rations, etc. that they've brought with them, one item per line. Each Elf separates their own inventory from the previous Elf's inventory (if any) by a blank line.\n",
    "\n",
    "For example, suppose the Elves finish writing their items' Calories and end up with the following list:\n",
    "\n",
    "1000\n",
    "2000\n",
    "3000\n",
    "\n",
    "4000\n",
    "\n",
    "5000\n",
    "6000\n",
    "\n",
    "7000\n",
    "8000\n",
    "9000\n",
    "\n",
    "10000\n",
    "This list represents the Calories of the food carried by five Elves:\n",
    "\n",
    "The first Elf is carrying food with 1000, 2000, and 3000 Calories, a total of 6000 Calories.\n",
    "The second Elf is carrying one food item with 4000 Calories.\n",
    "The third Elf is carrying food with 5000 and 6000 Calories, a total of 11000 Calories.\n",
    "The fourth Elf is carrying food with 7000, 8000, and 9000 Calories, a total of 24000 Calories.\n",
    "The fifth Elf is carrying one food item with 10000 Calories.\n",
    "In case the Elves get hungry and need extra snacks, they need to know which Elf to ask: they'd like to know how many Calories are being carried by the Elf carrying the most Calories. In the example above, this is 24000 (carried by the fourth Elf).\n",
    "\n",
    "Find the Elf carrying the most Calories. How many total Calories is that Elf carrying?"
   ]
  },
  {
   "cell_type": "code",
   "execution_count": 17,
   "id": "70148161-764d-4d0f-9ada-e6c93fe1762c",
   "metadata": {},
   "outputs": [],
   "source": [
    "with open('data/1_test.txt', 'r') as f:\n",
    "    l = f.read()"
   ]
  },
  {
   "cell_type": "code",
   "execution_count": 18,
   "id": "0b88b2aa-ef58-4156-8d5d-33b66ab8ffda",
   "metadata": {},
   "outputs": [],
   "source": [
    "elves = l.split('\\n\\n')"
   ]
  },
  {
   "cell_type": "code",
   "execution_count": 19,
   "id": "b3c76e06-c6ec-4434-8401-10d5258b8177",
   "metadata": {},
   "outputs": [
    {
     "data": {
      "text/plain": [
       "73211"
      ]
     },
     "execution_count": 19,
     "metadata": {},
     "output_type": "execute_result"
    }
   ],
   "source": [
    "max([sum([int(i) for i in elve.split('\\n')]) for elve in elves])"
   ]
  },
  {
   "cell_type": "code",
   "execution_count": 22,
   "id": "c59798cd-d496-4ec4-b164-802495e0d6ab",
   "metadata": {},
   "outputs": [
    {
     "data": {
      "text/plain": [
       "213958"
      ]
     },
     "execution_count": 22,
     "metadata": {},
     "output_type": "execute_result"
    }
   ],
   "source": [
    "sum(sorted([sum([int(i) for i in elve.split('\\n')]) for elve in elves])[-3:])"
   ]
  },
  {
   "cell_type": "code",
   "execution_count": null,
   "id": "54f57251-8d8d-48c6-bd62-df96cdaa7a54",
   "metadata": {},
   "outputs": [],
   "source": []
  }
 ],
 "metadata": {
  "kernelspec": {
   "display_name": "Python 3 (ipykernel)",
   "language": "python",
   "name": "python3"
  },
  "language_info": {
   "codemirror_mode": {
    "name": "ipython",
    "version": 3
   },
   "file_extension": ".py",
   "mimetype": "text/x-python",
   "name": "python",
   "nbconvert_exporter": "python",
   "pygments_lexer": "ipython3",
   "version": "3.9.15"
  }
 },
 "nbformat": 4,
 "nbformat_minor": 5
}
