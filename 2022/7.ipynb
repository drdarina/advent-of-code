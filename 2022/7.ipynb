{
 "cells": [
  {
   "cell_type": "markdown",
   "id": "7e8389e8-3256-4019-baca-4910fa62ad01",
   "metadata": {},
   "source": [
    "cd means change directory. This changes which directory is the current directory, but the specific result depends on the argument:\n",
    "cd x moves in one level: it looks in the current directory for the directory named x and makes it the current directory.\n",
    "cd .. moves out one level: it finds the directory that contains the current directory, then makes that directory the current directory.\n",
    "cd / switches the current directory to the outermost directory, /.\n",
    "ls means list. It prints out all of the files and directories immediately contained by the current directory:\n",
    "123 abc means that the current directory contains a file named abc with size 123.\n",
    "dir xyz means that the current directory contains a directory named xyz.\n",
    "Given the commands and output in the example above, you can determine that the filesystem looks visually like this:\n",
    "\n",
    "- / (dir)\n",
    "  - a (dir)\n",
    "    - e (dir)\n",
    "      - i (file, size=584)\n",
    "    - f (file, size=29116)\n",
    "    - g (file, size=2557)\n",
    "    - h.lst (file, size=62596)\n",
    "  - b.txt (file, size=14848514)\n",
    "  - c.dat (file, size=8504156)\n",
    "  - d (dir)\n",
    "    - j (file, size=4060174)\n",
    "    - d.log (file, size=8033020)\n",
    "    - d.ext (file, size=5626152)\n",
    "    - k (file, size=7214296)\n",
    "    \n",
    "The total sizes of the directories above can be found as follows:\n",
    "\n",
    "The total size of directory e is 584 because it contains a single file i of size 584 and no other directories.\n",
    "The directory a has total size 94853 because it contains files f (size 29116), g (size 2557), and h.lst (size 62596), plus file i indirectly (a contains e which contains i).\n",
    "Directory d has total size 24933642.\n",
    "As the outermost directory, / contains every file. Its total size is 48381165, the sum of the size of every file.\n",
    "To begin, find all of the directories with a total size of at most 100000, then calculate the sum of their total sizes. In the example above, these directories are a and e; the sum of their total sizes is 95437 (94853 + 584). (As in this example, this process can count files more than once!)\n",
    "\n",
    "Find all of the directories with a total size of at most 100000. What is the sum of the total sizes of those directories?"
   ]
  },
  {
   "cell_type": "code",
   "execution_count": 76,
   "id": "01c047ee-0d36-4ca5-ac8d-70977b6dc29b",
   "metadata": {},
   "outputs": [],
   "source": [
    "with open('data/7.txt', 'r') as f:\n",
    "    s = [i.split('\\n')[0] for i in f.readlines()]"
   ]
  },
  {
   "cell_type": "code",
   "execution_count": 77,
   "id": "3e09979b-030d-49d8-9fce-1c8b56a25689",
   "metadata": {},
   "outputs": [],
   "source": [
    "from collections import defaultdict\n",
    "files = defaultdict(lambda: 0)\n",
    "path = []\n",
    "for row in s:\n",
    "    if row.startswith('$ cd'):\n",
    "        loc = row.split('$ cd ')[1]\n",
    "        if loc != '..':\n",
    "            path.append(loc)\n",
    "        else:\n",
    "            path.pop(-1)\n",
    "    elif row.startswith('dir'):\n",
    "        continue\n",
    "    else:\n",
    "        try:\n",
    "            int(row[0])\n",
    "            for i in range(1, len(path)+1):\n",
    "                files['/'.join(path[:i])] += int(row.split()[0])    \n",
    "        except ValueError:\n",
    "            pass"
   ]
  },
  {
   "cell_type": "code",
   "execution_count": 78,
   "id": "84d5d090-1c1b-4873-a098-9591d41fac7f",
   "metadata": {},
   "outputs": [
    {
     "data": {
      "text/plain": [
       "2061777"
      ]
     },
     "execution_count": 78,
     "metadata": {},
     "output_type": "execute_result"
    }
   ],
   "source": [
    "sum([i for i in files.values() if i <= 100000])"
   ]
  },
  {
   "cell_type": "code",
   "execution_count": 79,
   "id": "444e3cfb-61f4-4d92-94ae-a8523831a3c3",
   "metadata": {},
   "outputs": [
    {
     "data": {
      "text/plain": [
       "defaultdict(<function __main__.<lambda>()>,\n",
       "            {'/': 44125990,\n",
       "             '//gbjh': 9976905,\n",
       "             '//gbjh/jtgbg': 1361617,\n",
       "             '//gbjh/jtgbg/hzjcc': 262498,\n",
       "             '//gbjh/jtgbg/jgpnm': 572718,\n",
       "             '//gbjh/jtgbg/jgpnm/php': 289068,\n",
       "             '//gbjh/jtgbg/jgpnm/rlp': 283650,\n",
       "             '//gbjh/jtgbg/jgpnm/rlp/dhlspmh': 249350,\n",
       "             '//gbjh/jtgbg/jgpnm/rlp/mlsqrz': 31876,\n",
       "             '//gbjh/jtgbg/jgpnm/rlp/slwhsqw': 2424,\n",
       "             '//gbjh/jtgbg/smb': 29124,\n",
       "             '//gbjh/jtgbg/vvhmmn': 40455,\n",
       "             '//gbjh/pzdn': 8292589,\n",
       "             '//gbjh/pzdn/bpdbclp': 65147,\n",
       "             '//gbjh/pzdn/gvvgncqh': 2584721,\n",
       "             '//gbjh/pzdn/gvvgncqh/fdcdh': 285507,\n",
       "             '//gbjh/pzdn/gvvgncqh/jnfhsqrl': 1563456,\n",
       "             '//gbjh/pzdn/gvvgncqh/jnfhsqrl/ddzqtsvf': 741961,\n",
       "             '//gbjh/pzdn/gvvgncqh/jnfhsqrl/ddzqtsvf/fdcdh': 741961,\n",
       "             '//gbjh/pzdn/gvvgncqh/jnfhsqrl/ddzqtsvf/fdcdh/fhmpzq': 280917,\n",
       "             '//gbjh/pzdn/gvvgncqh/jnfhsqrl/ddzqtsvf/fdcdh/fhmpzq/ghzrhzs': 82916,\n",
       "             '//gbjh/pzdn/gvvgncqh/jnfhsqrl/wwrrtc': 291755,\n",
       "             '//gbjh/pzdn/gvvgncqh/lprd': 247564,\n",
       "             '//gbjh/pzdn/gvvgncqh/qzmcfrhq': 102306,\n",
       "             '//gbjh/pzdn/gvvgncqh/rmbmpjc': 333357,\n",
       "             '//gbjh/pzdn/gvvgncqh/rmbmpjc/tshl': 592,\n",
       "             '//gbjh/pzdn/jfzw': 470339,\n",
       "             '//gbjh/pzdn/jfzw/fcwsrnjg': 81276,\n",
       "             '//gbjh/pzdn/jfzw/ftnlwhpn': 78460,\n",
       "             '//gbjh/pzdn/jfzw/ghqt': 212220,\n",
       "             '//gbjh/pzdn/nlwnv': 5172382,\n",
       "             '//gbjh/pzdn/nlwnv/cvbq': 1939674,\n",
       "             '//gbjh/pzdn/nlwnv/cvbq/ndjlpwpw': 17383,\n",
       "             '//gbjh/pzdn/nlwnv/cvbq/qmqlf': 1574248,\n",
       "             '//gbjh/pzdn/nlwnv/cvbq/qmqlf/tsrgs': 805125,\n",
       "             '//gbjh/pzdn/nlwnv/cvbq/qmqlf/tsrgs/fdcdh': 393643,\n",
       "             '//gbjh/pzdn/nlwnv/jgpnm': 1366599,\n",
       "             '//gbjh/pzdn/nlwnv/jgpnm/bgv': 1317111,\n",
       "             '//gbjh/pzdn/nlwnv/jgpnm/bgv/fpvvw': 617312,\n",
       "             '//gbjh/pzdn/nlwnv/jgpnm/bgv/wvdqjn': 142231,\n",
       "             '//gbjh/pzdn/nlwnv/jgpnm/bgv/zlwvlpw': 201551,\n",
       "             '//gbjh/pzdn/nlwnv/jgpnm/bgv/zlwvlpw/slllz': 201551,\n",
       "             '//gbjh/pzdn/nlwnv/zmllsrzc': 1639481,\n",
       "             '//gbjh/pzdn/nlwnv/zmllsrzc/dgdgccc': 276609,\n",
       "             '//gbjh/pzdn/nlwnv/zmllsrzc/fqrcw': 763721,\n",
       "             '//gbjh/pzdn/nlwnv/zmllsrzc/fqrcw/fghsd': 443369,\n",
       "             '//gbjh/pzdn/nlwnv/zmllsrzc/zmllsrzc': 58596,\n",
       "             '//gbjh/slwhsqw': 257728,\n",
       "             '//gbjh/slwhsqw/jfp': 51699,\n",
       "             '//hlpzbht': 727712,\n",
       "             '//phpmmtvc': 30197553,\n",
       "             '//phpmmtvc/bqpslnv': 8898409,\n",
       "             '//phpmmtvc/bqpslnv/cwbdcvgv': 220273,\n",
       "             '//phpmmtvc/bqpslnv/dtbbbgw': 1356669,\n",
       "             '//phpmmtvc/bqpslnv/dtbbbgw/dptrzvz': 1012358,\n",
       "             '//phpmmtvc/bqpslnv/dtbbbgw/dptrzvz/gfzfhjn': 314929,\n",
       "             '//phpmmtvc/bqpslnv/dtbbbgw/dptrzvz/vssdlrp': 86305,\n",
       "             '//phpmmtvc/bqpslnv/dtbbbgw/jgrdzbbh': 326428,\n",
       "             '//phpmmtvc/bqpslnv/dtbbbgw/jgrdzbbh/fdcdh': 242121,\n",
       "             '//phpmmtvc/bqpslnv/dtbbbgw/jgrdzbbh/fttv': 67997,\n",
       "             '//phpmmtvc/bqpslnv/dtbbbgw/jgrdzbbh/wzwndq': 16310,\n",
       "             '//phpmmtvc/bqpslnv/jnfvpnm': 17107,\n",
       "             '//phpmmtvc/bqpslnv/lmqtmbh': 823269,\n",
       "             '//phpmmtvc/bqpslnv/lmqtmbh/cpdt': 317846,\n",
       "             '//phpmmtvc/bqpslnv/lqb': 172704,\n",
       "             '//phpmmtvc/bqpslnv/lqb/sbrzrb': 172704,\n",
       "             '//phpmmtvc/bqpslnv/lqb/sbrzrb/mglsdblq': 172704,\n",
       "             '//phpmmtvc/bqpslnv/srq': 1489187,\n",
       "             '//phpmmtvc/bqpslnv/srq/bqpslnv': 66777,\n",
       "             '//phpmmtvc/bqpslnv/srq/hmhbtnp': 647439,\n",
       "             '//phpmmtvc/bqpslnv/srq/pcrmfr': 94907,\n",
       "             '//phpmmtvc/bqpslnv/vtnptsl': 4473403,\n",
       "             '//phpmmtvc/bqpslnv/vtnptsl/bwrbw': 986773,\n",
       "             '//phpmmtvc/bqpslnv/vtnptsl/drhf': 685635,\n",
       "             '//phpmmtvc/bqpslnv/vtnptsl/drhf/rszprww': 375570,\n",
       "             '//phpmmtvc/bqpslnv/vtnptsl/drhf/rszprww/bgsnrdqv': 56538,\n",
       "             '//phpmmtvc/bqpslnv/vtnptsl/drhf/rszprww/grvmtw': 68025,\n",
       "             '//phpmmtvc/bqpslnv/vtnptsl/hjljrm': 848467,\n",
       "             '//phpmmtvc/bqpslnv/vtnptsl/hjljrm/dzjwf': 848467,\n",
       "             '//phpmmtvc/bqpslnv/vtnptsl/hjljrm/dzjwf/jvd': 280910,\n",
       "             '//phpmmtvc/bqpslnv/vtnptsl/hjljrm/dzjwf/nnwc': 263846,\n",
       "             '//phpmmtvc/bqpslnv/vtnptsl/hjljrm/dzjwf/nnwc/bffsm': 5659,\n",
       "             '//phpmmtvc/bqpslnv/vtnptsl/hjljrm/dzjwf/nnwc/bffsm/dwgp': 5659,\n",
       "             '//phpmmtvc/bqpslnv/vtnptsl/hjljrm/dzjwf/nnwc/ttfh': 147196,\n",
       "             '//phpmmtvc/bqpslnv/vtnptsl/hjljrm/dzjwf/zmllsrzc': 72856,\n",
       "             '//phpmmtvc/bqpslnv/vtnptsl/hjljrm/dzjwf/zmllsrzc/gzmjpctz': 72856,\n",
       "             '//phpmmtvc/bqpslnv/vtnptsl/thjbhrzj': 1260973,\n",
       "             '//phpmmtvc/bqpslnv/vtnptsl/thjbhrzj/fdcdh': 735982,\n",
       "             '//phpmmtvc/dptzbgc': 6841976,\n",
       "             '//phpmmtvc/dptzbgc/nmsdfhfc': 90593,\n",
       "             '//phpmmtvc/dptzbgc/nmsdfhfc/crfw': 90593,\n",
       "             '//phpmmtvc/dptzbgc/nmvpwnmh': 3433907,\n",
       "             '//phpmmtvc/dptzbgc/nmvpwnmh/fdcdh': 141722,\n",
       "             '//phpmmtvc/dptzbgc/nmvpwnmh/hnttb': 2016528,\n",
       "             '//phpmmtvc/dptzbgc/nmvpwnmh/hnttb/gbfvsg': 362660,\n",
       "             '//phpmmtvc/dptzbgc/nmvpwnmh/hnttb/jngrjqm': 395664,\n",
       "             '//phpmmtvc/dptzbgc/nmvpwnmh/hnttb/jngrjqm/bqpslnv': 47973,\n",
       "             '//phpmmtvc/dptzbgc/nmvpwnmh/hnttb/slwhsqw': 1258204,\n",
       "             '//phpmmtvc/dptzbgc/nmvpwnmh/hnttb/slwhsqw/tgpnwrn': 391539,\n",
       "             '//phpmmtvc/dptzbgc/nmvpwnmh/jgpnm': 375791,\n",
       "             '//phpmmtvc/dptzbgc/nsqv': 233412,\n",
       "             '//phpmmtvc/dptzbgc/slwhsqw': 1689681,\n",
       "             '//phpmmtvc/dptzbgc/slwhsqw/nrt': 210674,\n",
       "             '//phpmmtvc/dptzbgc/slwhsqw/spsjgzfr': 586685,\n",
       "             '//phpmmtvc/dptzbgc/slwhsqw/zmllsrzc': 892322,\n",
       "             '//phpmmtvc/dptzbgc/wmm': 1144315,\n",
       "             '//phpmmtvc/dptzbgc/wmm/bcndl': 1015881,\n",
       "             '//phpmmtvc/dptzbgc/wmm/bcndl/cqgjzqt': 91704,\n",
       "             '//phpmmtvc/dptzbgc/wmm/bcndl/hrsdjfv': 746180,\n",
       "             '//phpmmtvc/dptzbgc/wmm/bcndl/zmllsrzc': 177997,\n",
       "             '//phpmmtvc/dptzbgc/wmm/cnlsb': 128434,\n",
       "             '//phpmmtvc/dptzbgc/wmm/cnlsb/vprqjr': 128434,\n",
       "             '//phpmmtvc/ldcqq': 751435,\n",
       "             '//phpmmtvc/ldcqq/nqmwqb': 313907,\n",
       "             '//phpmmtvc/nld': 3805597,\n",
       "             '//phpmmtvc/nld/bqpslnv': 1108761,\n",
       "             '//phpmmtvc/nld/bqpslnv/tvsv': 1108761,\n",
       "             '//phpmmtvc/nld/bqpslnv/tvsv/fdcdh': 255839,\n",
       "             '//phpmmtvc/nld/bqpslnv/tvsv/fdcdh/jvcwgbfn': 255839,\n",
       "             '//phpmmtvc/nld/bqpslnv/tvsv/jgpnm': 66446,\n",
       "             '//phpmmtvc/nld/chw': 424866,\n",
       "             '//phpmmtvc/nld/twbt': 180495,\n",
       "             '//phpmmtvc/nld/vmvj': 1372135,\n",
       "             '//phpmmtvc/nld/vmvj/bqpslnv': 1119957,\n",
       "             '//phpmmtvc/nld/vmvj/bqpslnv/sgjszb': 421824,\n",
       "             '//phpmmtvc/nld/vmvj/bqpslnv/sgjszb/jlr': 244272,\n",
       "             '//phpmmtvc/nld/vmvj/lcjjc': 48565,\n",
       "             '//phpmmtvc/nld/vmvj/lcjjc/cmwm': 48565,\n",
       "             '//phpmmtvc/nld/vmvj/wsw': 203613,\n",
       "             '//phpmmtvc/nld/vmvj/wsw/nccwbcj': 203613,\n",
       "             '//phpmmtvc/vnswqbm': 9095427,\n",
       "             '//phpmmtvc/vnswqbm/bmsqrg': 838007,\n",
       "             '//phpmmtvc/vnswqbm/bmsqrg/vvph': 208410,\n",
       "             '//phpmmtvc/vnswqbm/bmsqrg/vvph/rqpzdtwl': 208410,\n",
       "             '//phpmmtvc/vnswqbm/bqpslnv': 254833,\n",
       "             '//phpmmtvc/vnswqbm/bqpslnv/bsrgvwfd': 254833,\n",
       "             '//phpmmtvc/vnswqbm/bqpslnv/bsrgvwfd/tlrgw': 18732,\n",
       "             '//phpmmtvc/vnswqbm/glb': 2104328,\n",
       "             '//phpmmtvc/vnswqbm/glb/fdcdh': 98547,\n",
       "             '//phpmmtvc/vnswqbm/glb/slwhsqw': 441086,\n",
       "             '//phpmmtvc/vnswqbm/glb/slwhsqw/hcqtzl': 441086,\n",
       "             '//phpmmtvc/vnswqbm/glb/wmp': 866016,\n",
       "             '//phpmmtvc/vnswqbm/glb/wmp/hwwlqrh': 362153,\n",
       "             '//phpmmtvc/vnswqbm/glb/wmp/hwwlqrh/bvfsgfm': 105325,\n",
       "             '//phpmmtvc/vnswqbm/glb/wmp/hwwlqrh/jbttmc': 256828,\n",
       "             '//phpmmtvc/vnswqbm/glb/wmp/hwwlqrh/jbttmc/tpdnt': 256828,\n",
       "             '//phpmmtvc/vnswqbm/glb/wmp/nfbrq': 277164,\n",
       "             '//phpmmtvc/vnswqbm/glb/wmp/slwhsqw': 56736,\n",
       "             '//phpmmtvc/vnswqbm/pzrvbvcn': 3055464,\n",
       "             '//phpmmtvc/vnswqbm/pzrvbvcn/fdcdh': 87149,\n",
       "             '//phpmmtvc/vnswqbm/pzrvbvcn/fdcdh/wnvgtp': 8890,\n",
       "             '//phpmmtvc/vnswqbm/pzrvbvcn/mzzgvjs': 1846706,\n",
       "             '//phpmmtvc/vnswqbm/pzrvbvcn/mzzgvjs/mhr': 287618,\n",
       "             '//phpmmtvc/vnswqbm/pzrvbvcn/mzzgvjs/pdjn': 835315,\n",
       "             '//phpmmtvc/vnswqbm/pzrvbvcn/mzzgvjs/pdjn/gfhzg': 718112,\n",
       "             '//phpmmtvc/vnswqbm/pzrvbvcn/mzzgvjs/pdjn/gfhzg/bqpslnv': 385405,\n",
       "             '//phpmmtvc/vnswqbm/pzrvbvcn/mzzgvjs/pdjn/gfhzg/bqpslnv/ztbmb': 180817,\n",
       "             '//phpmmtvc/vnswqbm/pzrvbvcn/mzzgvjs/pdjn/gfhzg/pqrbn': 332707,\n",
       "             '//phpmmtvc/vnswqbm/pzrvbvcn/mzzgvjs/pdjn/mcpzqvgn': 117203,\n",
       "             '//phpmmtvc/vnswqbm/pzrvbvcn/mzzgvjs/scdlp': 254665,\n",
       "             '//phpmmtvc/vnswqbm/pzrvbvcn/mzzgvjs/scdlp/mgqdbgm': 217104,\n",
       "             '//phpmmtvc/vnswqbm/pzrvbvcn/mzzgvjs/scdlp/mgqdbgm/fhnz': 217104,\n",
       "             '//phpmmtvc/vnswqbm/pzrvbvcn/qsdmzl': 249206,\n",
       "             '//phpmmtvc/vnswqbm/pzrvbvcn/sfhpt': 243897,\n",
       "             '//phpmmtvc/vnswqbm/qjmtppt': 238384,\n",
       "             '//phpmmtvc/vnswqbm/rtshvzr': 261331,\n",
       "             '//phpmmtvc/vnswqbm/wtdq': 176817,\n",
       "             '//phpmmtvc/vnswqbm/zmllsrzc': 1329045,\n",
       "             '//phpmmtvc/vnswqbm/zmllsrzc/bvqwrs': 1157260,\n",
       "             '//phpmmtvc/vnswqbm/zmllsrzc/bvqwrs/rclm': 413195,\n",
       "             '//phpmmtvc/vnswqbm/zmllsrzc/bvqwrs/rclm/nhflts': 22078,\n",
       "             '//phpmmtvc/vnswqbm/zmllsrzc/bvqwrs/rclm/nhflts/vmmbsfw': 22078,\n",
       "             '//phpmmtvc/vnswqbm/zmllsrzc/bvqwrs/zmllsrzc': 484956,\n",
       "             '//phpmmtvc/vnswqbm/zmllsrzc/bvqwrs/zmllsrzc/gccwrq': 68584,\n",
       "             '//phpmmtvc/zmllsrzc': 213942,\n",
       "             '//plbjmdl': 2523500,\n",
       "             '//plbjmdl/bqpslnv': 481307,\n",
       "             '//plbjmdl/gbs': 228129,\n",
       "             '//plbjmdl/qdbsj': 137655,\n",
       "             '//plbjmdl/tlptvz': 1145034,\n",
       "             '//plbjmdl/tlptvz/brssb': 222065,\n",
       "             '//plbjmdl/tlptvz/hhmq': 23600,\n",
       "             '//tggr': 223836})"
      ]
     },
     "execution_count": 79,
     "metadata": {},
     "output_type": "execute_result"
    }
   ],
   "source": [
    "files"
   ]
  },
  {
   "cell_type": "markdown",
   "id": "6b96cdbc-ddc6-40e4-a5a6-0bddab4af7ee",
   "metadata": {},
   "source": [
    "To begin, find all of the directories with a total size of at most 100000, then calculate the sum of their total sizes. In the example above, these directories are a and e; the sum of their total sizes is 95437 (94853 + 584). (As in this example, this process can count files more than once!)\n",
    "\n",
    "Find all of the directories with a total size of at most 100000. What is the sum of the total sizes of those directories?"
   ]
  },
  {
   "cell_type": "markdown",
   "id": "a71d9f15-6925-4239-b86c-1f71d4b59b54",
   "metadata": {},
   "source": [
    "Now, you're ready to choose a directory to delete.\n",
    "\n",
    "The total disk space available to the filesystem is 70000000. To run the update, you need unused space of at least 30000000. You need to find a directory you can delete that will free up enough space to run the update.\n",
    "\n",
    "In the example above, the total size of the outermost directory (and thus the total amount of used space) is 48381165; this means that the size of the unused space must currently be 21618835, which isn't quite the 30000000 required by the update. Therefore, the update still requires a directory with total size of at least 8381165 to be deleted before it can run.\n",
    "\n",
    "To achieve this, you have the following options:\n",
    "\n",
    "Delete directory e, which would increase unused space by 584.\n",
    "Delete directory a, which would increase unused space by 94853.\n",
    "Delete directory d, which would increase unused space by 24933642.\n",
    "Delete directory /, which would increase unused space by 48381165.\n",
    "Directories e and a are both too small; deleting them would not free up enough space. However, directories d and / are both big enough! Between these, choose the smallest: d, increasing unused space by 24933642.\n",
    "\n",
    "Find the smallest directory that, if deleted, would free up enough space on the filesystem to run the update. What is the total size of that directory?"
   ]
  },
  {
   "cell_type": "code",
   "execution_count": 80,
   "id": "736d5cda-04ad-40d6-8a2e-de58a0fe5489",
   "metadata": {},
   "outputs": [],
   "source": [
    "required = 30000000\n",
    "free = 70000000 - files['/']\n",
    "target = required - free"
   ]
  },
  {
   "cell_type": "code",
   "execution_count": 81,
   "id": "ea54666a-ad92-4fd8-85ba-41d09aad78a3",
   "metadata": {},
   "outputs": [
    {
     "data": {
      "text/plain": [
       "4125990"
      ]
     },
     "execution_count": 81,
     "metadata": {},
     "output_type": "execute_result"
    }
   ],
   "source": [
    "target"
   ]
  },
  {
   "cell_type": "code",
   "execution_count": 82,
   "id": "b9a0bead-eca7-4c8d-b0b0-3b949b022dfc",
   "metadata": {},
   "outputs": [
    {
     "data": {
      "text/plain": [
       "4473403"
      ]
     },
     "execution_count": 82,
     "metadata": {},
     "output_type": "execute_result"
    }
   ],
   "source": [
    "min([i for i in files.values() if i > target])"
   ]
  },
  {
   "cell_type": "code",
   "execution_count": null,
   "id": "dc193300-2e79-4bde-8ee4-48e7151bf746",
   "metadata": {},
   "outputs": [],
   "source": []
  }
 ],
 "metadata": {
  "kernelspec": {
   "display_name": "Python 3 (ipykernel)",
   "language": "python",
   "name": "python3"
  },
  "language_info": {
   "codemirror_mode": {
    "name": "ipython",
    "version": 3
   },
   "file_extension": ".py",
   "mimetype": "text/x-python",
   "name": "python",
   "nbconvert_exporter": "python",
   "pygments_lexer": "ipython3",
   "version": "3.9.15"
  }
 },
 "nbformat": 4,
 "nbformat_minor": 5
}
