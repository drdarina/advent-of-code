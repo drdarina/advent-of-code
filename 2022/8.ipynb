{
 "cells": [
  {
   "cell_type": "code",
   "execution_count": 157,
   "id": "b3ef9da5-12db-4e21-86de-984b7a6e72a1",
   "metadata": {},
   "outputs": [],
   "source": [
    "with open('data/8.txt') as f:\n",
    "    l = [i.split('\\n')[0] for i in f.readlines()]"
   ]
  },
  {
   "cell_type": "code",
   "execution_count": 158,
   "id": "67404393-1bc3-4e11-8d6c-240162e73210",
   "metadata": {},
   "outputs": [],
   "source": [
    "import numpy as np"
   ]
  },
  {
   "cell_type": "code",
   "execution_count": 159,
   "id": "104ca28f-d764-42af-8fd8-6962b4b25cd2",
   "metadata": {},
   "outputs": [],
   "source": [
    "l = [[int(x) for x in i] for i in l]"
   ]
  },
  {
   "cell_type": "code",
   "execution_count": 160,
   "id": "3b4fdb86-c0df-4756-8dbf-290fc02c6ec6",
   "metadata": {},
   "outputs": [],
   "source": [
    "l = np.array(l)"
   ]
  },
  {
   "cell_type": "code",
   "execution_count": 161,
   "id": "cb0dca7a-54a6-4bac-acc7-1174b8a08d84",
   "metadata": {},
   "outputs": [],
   "source": [
    "def is_highest_left(i,j):\n",
    "    return max(l[i, :j]) < l[i,j]\n",
    "def is_highest_right(i,j):\n",
    "    return max(l[i, j+1:]) < l[i,j]\n",
    "def is_highest_up(i,j):\n",
    "    return max(l[:i, j]) < l[i,j]\n",
    "def is_highest_down(i,j):\n",
    "    return max(l[i+1:, j]) < l[i,j]"
   ]
  },
  {
   "cell_type": "code",
   "execution_count": 162,
   "id": "b32df709-3f0f-4b7f-a72d-7639df69e3c1",
   "metadata": {},
   "outputs": [],
   "source": [
    "total = 0\n",
    "for i in range(1, l.shape[0]-1):\n",
    "    for j in range(1, l.shape[1]-1):\n",
    "        if is_highest_left(i,j):\n",
    "            #print(i,j, l[i,j], 'visible from left')\n",
    "            total += 1\n",
    "        elif is_highest_right(i,j):\n",
    "            #print(i,j, l[i,j], 'visible from right')\n",
    "            total += 1\n",
    "        elif is_highest_up(i,j):\n",
    "            #print(i,j, l[i,j], 'visible from up')\n",
    "            total += 1\n",
    "        elif is_highest_down(i,j):\n",
    "            #print(i,j, l[i,j], 'visible from down')\n",
    "            total += 1\n",
    "        else:\n",
    "            #print(i, j, l[i,j], 'not visible')\n",
    "            pass"
   ]
  },
  {
   "cell_type": "markdown",
   "id": "0c8ff2bb-a34b-4fa0-8117-130d800a2cf9",
   "metadata": {},
   "source": [
    "The top-left 5 is visible from the left and top. (It isn't visible from the right or bottom since other trees of height 5 are in the way.)\n",
    "The top-middle 5 is visible from the top and right.\n",
    "The top-right 1 is not visible from any direction; for it to be visible, there would need to only be trees of height 0 between it and an edge.\n",
    "The left-middle 5 is visible, but only from the right.\n",
    "The center 3 is not visible from any direction; for it to be visible, there would need to be only trees of at most height 2 between it and an edge.\n",
    "The right-middle 3 is visible from the right.\n",
    "In the bottom row, the middle 5 is visible, but the 3 and 4 are not."
   ]
  },
  {
   "cell_type": "code",
   "execution_count": 163,
   "id": "722013d4-9350-4da4-92a0-55ec77937a5d",
   "metadata": {},
   "outputs": [
    {
     "data": {
      "text/plain": [
       "1390"
      ]
     },
     "execution_count": 163,
     "metadata": {},
     "output_type": "execute_result"
    }
   ],
   "source": [
    "total"
   ]
  },
  {
   "cell_type": "code",
   "execution_count": 164,
   "id": "fe699d3d-02b4-4a2a-9838-6d60c335776c",
   "metadata": {},
   "outputs": [],
   "source": [
    "outer = 2*l.shape[0] + 2*l.shape[1] - 4"
   ]
  },
  {
   "cell_type": "code",
   "execution_count": 165,
   "id": "a8dd934e-e628-427d-9601-1bd9ed9fbe67",
   "metadata": {},
   "outputs": [
    {
     "data": {
      "text/plain": [
       "1782"
      ]
     },
     "execution_count": 165,
     "metadata": {},
     "output_type": "execute_result"
    }
   ],
   "source": [
    "outer + total"
   ]
  },
  {
   "cell_type": "markdown",
   "id": "6fca03b6-7298-43a6-91c9-0ff4738a211e",
   "metadata": {},
   "source": [
    "In the example above, consider the middle 5 in the second row:\n",
    "Looking up, its view is not blocked; it can see 1 tree (of height 3).\n",
    "Looking left, its view is blocked immediately; it can see only 1 tree (of height 5, right next to it).\n",
    "Looking right, its view is not blocked; it can see 2 trees.\n",
    "Looking down, its view is blocked eventually; it can see 2 trees (one of height 3, then the tree of height 5 that blocks its view).\n",
    "A tree's scenic score is found by multiplying together its viewing distance in each of the four directions. For this tree, this is 4 (found by multiplying 1 * 1 * 2 * 2).\n",
    "\n",
    "However, you can do even better: consider the tree of height 5 in the middle of the fourth row:\n",
    "Looking up, its view is blocked at 2 trees (by another tree with a height of 5).\n",
    "Looking left, its view is not blocked; it can see 2 trees.\n",
    "Looking down, its view is also not blocked; it can see 1 tree.\n",
    "Looking right, its view is blocked at 2 trees (by a massive tree of height 9).\n",
    "This tree's scenic score is 8 (2 * 2 * 1 * 2); this is the ideal spot for the tree house."
   ]
  },
  {
   "cell_type": "code",
   "execution_count": 168,
   "id": "a1e0c753-20bf-4b18-9cfb-af7452316037",
   "metadata": {},
   "outputs": [
    {
     "data": {
      "text/plain": [
       "474606"
      ]
     },
     "execution_count": 168,
     "metadata": {},
     "output_type": "execute_result"
    }
   ],
   "source": [
    "best_score = 0\n",
    "for i in range(l.shape[0]):\n",
    "    for j in range(l.shape[1]):\n",
    "        # visibility right\n",
    "        v_right = np.where(l[i, j+1:] >= l[i,j])[0]\n",
    "        if len(v_right) > 0:\n",
    "            v_right = v_right[0] + 1\n",
    "        else:\n",
    "            v_right = l.shape[0] - j -1\n",
    "\n",
    "        #visibility left\n",
    "        v_left = np.where(l[i, :j][::-1] >= l[i,j])[0]\n",
    "        if len(v_left) > 0:\n",
    "            v_left = v_left[0] + 1\n",
    "        else:\n",
    "            v_left = j\n",
    "\n",
    "        # visibility down\n",
    "        v_down = np.where(l[i+1:, j] >= l[i,j])[0]\n",
    "        if len(v_down) > 0:\n",
    "            v_down = v_down[0] + 1\n",
    "        else:\n",
    "            v_down = l.shape[1] - i - 1\n",
    "\n",
    "        # visibility up\n",
    "        v_up = np.where(l[:i, j][::-1] >= l[i,j])[0]\n",
    "        if len(v_up) > 0:\n",
    "            v_up = v_up[0] + 1\n",
    "        else:\n",
    "            v_up = i\n",
    "\n",
    "        best_score = max(best_score, v_right * v_left * v_up * v_down)\n",
    "best_score"
   ]
  },
  {
   "cell_type": "code",
   "execution_count": null,
   "id": "c53a84b7-bbb8-4a9e-90d4-a02a9b48bbc5",
   "metadata": {},
   "outputs": [],
   "source": []
  },
  {
   "cell_type": "code",
   "execution_count": null,
   "id": "e525c345-dde8-4c25-89b4-84b648b59c5e",
   "metadata": {},
   "outputs": [],
   "source": []
  }
 ],
 "metadata": {
  "kernelspec": {
   "display_name": "blackops",
   "language": "python",
   "name": "blackops"
  },
  "language_info": {
   "codemirror_mode": {
    "name": "ipython",
    "version": 3
   },
   "file_extension": ".py",
   "mimetype": "text/x-python",
   "name": "python",
   "nbconvert_exporter": "python",
   "pygments_lexer": "ipython3",
   "version": "3.8.10"
  }
 },
 "nbformat": 4,
 "nbformat_minor": 5
}
