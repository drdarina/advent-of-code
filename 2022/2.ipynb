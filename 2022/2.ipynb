{
 "cells": [
  {
   "cell_type": "code",
   "execution_count": 45,
   "id": "b689329d-7dec-4b38-a4c1-33a3e218a970",
   "metadata": {},
   "outputs": [],
   "source": [
    "with open('data/2.txt', 'r') as f:\n",
    "    strat = [i.split('\\n')[0] for i in f.readlines()]"
   ]
  },
  {
   "cell_type": "markdown",
   "id": "66c0a0de-5953-49c9-a613-8a708cb8e3c1",
   "metadata": {},
   "source": [
    "\"The first column is what your opponent is going to play: A for Rock, B for Paper, and C for Scissors. The second column--\" Suddenly, the Elf is called away to help with someone's tent.\n",
    "\n",
    "The second column, you reason, must be what you should play in response: X for Rock, Y for Paper, and Z for Scissors. Winning every time would be suspicious, so the responses must have been carefully chosen.\n",
    "\n",
    "The winner of the whole tournament is the player with the highest score. Your total score is the sum of your scores for each round. The score for a single round is the score for the shape you selected (1 for Rock, 2 for Paper, and 3 for Scissors) plus the score for the outcome of the round (0 if you lost, 3 if the round was a draw, and 6 if you won)."
   ]
  },
  {
   "cell_type": "code",
   "execution_count": 46,
   "id": "73212b95-6c9c-4311-b05b-838ea990d735",
   "metadata": {},
   "outputs": [],
   "source": [
    "value = {'A': 1,\n",
    "        'B': 2,\n",
    "        'C': 3}\n",
    "rules = {'A': 'B',\n",
    "        'B': 'C', \n",
    "        'C': 'A'}\n",
    "def res(s):\n",
    "    s = s.replace('X', 'A')\n",
    "    s = s.replace('Y', 'B')\n",
    "    s = s.replace('Z', 'C')\n",
    "    them, me = s.split()\n",
    "    total = value[me]\n",
    "    if rules[them] == me:\n",
    "        return total + 6\n",
    "    elif them == me:\n",
    "        return total + 3\n",
    "    else:\n",
    "        return total"
   ]
  },
  {
   "cell_type": "code",
   "execution_count": 47,
   "id": "697e10c4-6dc5-4a3a-a2c1-e473ed950995",
   "metadata": {},
   "outputs": [
    {
     "data": {
      "text/plain": [
       "11873"
      ]
     },
     "execution_count": 47,
     "metadata": {},
     "output_type": "execute_result"
    }
   ],
   "source": [
    "sum([res(s) for  s in strat])"
   ]
  },
  {
   "cell_type": "markdown",
   "id": "cfa672c0-7de0-4d5c-b8a1-91ed2da80d87",
   "metadata": {},
   "source": [
    "The Elf finishes helping with the tent and sneaks back over to you. \"Anyway, the second column says how the round needs to end: X means you need to lose, Y means you need to end the round in a draw, and Z means you need to win. Good luck!\"\n",
    "\n",
    "The total score is still calculated in the same way, but now you need to figure out what shape to choose so the round ends as indicated. The example above now goes like this:\n",
    "\n",
    "In the first round, your opponent will choose Rock (A), and you need the round to end in a draw (Y), so you also choose Rock. This gives you a score of 1 + 3 = 4.\n",
    "In the second round, your opponent will choose Paper (B), and you choose Rock so you lose (X) with a score of 1 + 0 = 1.\n",
    "In the third round, you will defeat your opponent's Scissors with Rock for a score of 1 + 6 = 7.\n",
    "Now that you're correctly decrypting the ultra top secret strategy guide, you would get a total score of 12."
   ]
  },
  {
   "cell_type": "code",
   "execution_count": 50,
   "id": "dab6c2e9-66bc-4a14-a738-3f858ff4d6e9",
   "metadata": {},
   "outputs": [
    {
     "data": {
      "text/plain": [
       "12014"
      ]
     },
     "execution_count": 50,
     "metadata": {},
     "output_type": "execute_result"
    }
   ],
   "source": [
    "value.update({'X': 0, 'Y': 3, 'Z': 6})\n",
    "loss_rules = {v: k for k, v in rules.items()}\n",
    "def res(s):\n",
    "    them, me = s.split()\n",
    "    total = value[me]\n",
    "    if me == 'Y':\n",
    "        total += value[them]\n",
    "    elif me == 'Z':\n",
    "        total += value[rules[them]]\n",
    "    else:\n",
    "        total += value[loss_rules[them]]\n",
    "    return total\n",
    "    \n",
    "sum([res(s) for s in strat])"
   ]
  },
  {
   "cell_type": "code",
   "execution_count": null,
   "id": "870e13a0-e6df-4d88-8b16-3eea92832cd3",
   "metadata": {},
   "outputs": [],
   "source": []
  }
 ],
 "metadata": {
  "kernelspec": {
   "display_name": "Python 3 (ipykernel)",
   "language": "python",
   "name": "python3"
  },
  "language_info": {
   "codemirror_mode": {
    "name": "ipython",
    "version": 3
   },
   "file_extension": ".py",
   "mimetype": "text/x-python",
   "name": "python",
   "nbconvert_exporter": "python",
   "pygments_lexer": "ipython3",
   "version": "3.9.15"
  }
 },
 "nbformat": 4,
 "nbformat_minor": 5
}
