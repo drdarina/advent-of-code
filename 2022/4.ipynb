{
 "cells": [
  {
   "cell_type": "markdown",
   "id": "fb76b8db-e22c-430f-8c1c-8989355a5c99",
   "metadata": {},
   "source": [
    "For the first few pairs, this list means:\n",
    "\n",
    "Within the first pair of Elves, the first Elf was assigned sections 2-4 (sections 2, 3, and 4), while the second Elf was assigned sections 6-8 (sections 6, 7, 8).\n",
    "The Elves in the second pair were each assigned two sections.\n",
    "The Elves in the third pair were each assigned three sections: one got sections 5, 6, and 7, while the other also got 7, plus 8 and 9.\n",
    "This example list uses single-digit section IDs to make it easier to draw; your actual list might contain larger numbers. Visually, these pairs of section assignments look like this:\n",
    "\n",
    ".234.....  2-4\n",
    ".....678.  6-8\n",
    "\n",
    ".23......  2-3\n",
    "...45....  4-5\n",
    "\n",
    "....567..  5-7\n",
    "......789  7-9\n",
    "\n",
    ".2345678.  2-8\n",
    "..34567..  3-7\n",
    "\n",
    ".....6...  6-6\n",
    "...456...  4-6\n",
    "\n",
    ".23456...  2-6\n",
    "...45678.  4-8\n",
    "Some of the pairs have noticed that one of their assignments fully contains the other. For example, 2-8 fully contains 3-7, and 6-6 is fully contained by 4-6. In pairs where one assignment fully contains the other, one Elf in the pair would be exclusively cleaning sections their partner will already be cleaning, so these seem like the most in need of reconsideration. In this example, there are 2 such pairs.\n",
    "\n",
    "In how many assignment pairs does one range fully contain the other?"
   ]
  },
  {
   "cell_type": "code",
   "execution_count": 57,
   "id": "23c38fc2-5429-4899-8642-cec5ada2cfcb",
   "metadata": {},
   "outputs": [],
   "source": [
    "with open('data/4.txt') as f:\n",
    "    l = [i.split('\\n')[0] for i in f.readlines()]"
   ]
  },
  {
   "cell_type": "code",
   "execution_count": 58,
   "id": "598294db-0147-4d3c-a30c-9c42b572d71b",
   "metadata": {},
   "outputs": [],
   "source": [
    "pairs = [i.split(',') for i in l]\n",
    "\n",
    "def to_int(p):\n",
    "    return [int(i) for i in p.split('-')]\n",
    "\n",
    "total = 0\n",
    "for p in pairs:\n",
    "    x1 = to_int(p[0])\n",
    "    x2 = to_int(p[1])\n",
    "    if (x1[0] <= x2[0] and x1[1] >= x2[1]) or (x2[0] <= x1[0] and x2[1] >= x1[1]):\n",
    "        total += 1"
   ]
  },
  {
   "cell_type": "code",
   "execution_count": 59,
   "id": "cbafcb8e-5b46-4909-8d3e-1eeacf1de15e",
   "metadata": {},
   "outputs": [
    {
     "data": {
      "text/plain": [
       "413"
      ]
     },
     "execution_count": 59,
     "metadata": {},
     "output_type": "execute_result"
    }
   ],
   "source": [
    "total"
   ]
  },
  {
   "cell_type": "markdown",
   "id": "da2bc218-cb0a-459a-a436-8bdd160ee06a",
   "metadata": {},
   "source": [
    "In the above example, the first two pairs (2-4,6-8 and 2-3,4-5) don't overlap, while the remaining four pairs (5-7,7-9, 2-8,3-7, 6-6,4-6, and 2-6,4-8) do overlap:\n",
    "\n",
    "5-7,7-9 overlaps in a single section, 7.\n",
    "2-8,3-7 overlaps all of the sections 3 through 7.\n",
    "6-6,4-6 overlaps in a single section, 6.\n",
    "2-6,4-8 overlaps in sections 4, 5, and 6."
   ]
  },
  {
   "cell_type": "code",
   "execution_count": 62,
   "id": "00942d3f-5cf2-4c63-b68f-67411e6a72c7",
   "metadata": {},
   "outputs": [],
   "source": [
    "total = 0\n",
    "for p in pairs:\n",
    "    x1 = to_int(p[0])\n",
    "    x2 = to_int(p[1])\n",
    "    if x1[0] <= x2[0] <= x1[1] or x2[0] <= x1[0] <= x2[1]:\n",
    "        total += 1"
   ]
  },
  {
   "cell_type": "code",
   "execution_count": 63,
   "id": "ccfa42e6-346b-4e07-9003-0f7c0dbf3711",
   "metadata": {},
   "outputs": [
    {
     "data": {
      "text/plain": [
       "806"
      ]
     },
     "execution_count": 63,
     "metadata": {},
     "output_type": "execute_result"
    }
   ],
   "source": [
    "total"
   ]
  },
  {
   "cell_type": "code",
   "execution_count": null,
   "id": "7c699d95-ea5b-44c8-a2da-f309da33a971",
   "metadata": {},
   "outputs": [],
   "source": []
  }
 ],
 "metadata": {
  "kernelspec": {
   "display_name": "Python 3 (ipykernel)",
   "language": "python",
   "name": "python3"
  },
  "language_info": {
   "codemirror_mode": {
    "name": "ipython",
    "version": 3
   },
   "file_extension": ".py",
   "mimetype": "text/x-python",
   "name": "python",
   "nbconvert_exporter": "python",
   "pygments_lexer": "ipython3",
   "version": "3.9.15"
  }
 },
 "nbformat": 4,
 "nbformat_minor": 5
}
